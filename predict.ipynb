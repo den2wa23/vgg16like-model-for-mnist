{
 "cells": [
  {
   "cell_type": "markdown",
   "id": "6a6d1dd4-b47a-448e-85af-ac87c16b1ca8",
   "metadata": {},
   "source": [
    "# predict"
   ]
  },
  {
   "cell_type": "code",
   "execution_count": 3,
   "id": "18daade5-b6c9-48b7-a583-9743cd07ae3b",
   "metadata": {},
   "outputs": [
    {
     "name": "stdout",
     "output_type": "stream",
     "text": [
      "(10000, 1, 28, 28)\n",
      "(10000, 1, 28, 28)\n"
     ]
    },
    {
     "data": {
      "image/png": "[encoded data removed]",
      "text/plain": [
       "<Figure size 1000x500 with 10 Axes>"
      ]
     },
     "metadata": {},
     "output_type": "display_data"
    },
    {
     "name": "stdout",
     "output_type": "stream",
     "text": [
      "Loss:0.02985094722205722, Accuracy: 0.9903\n"
     ]
    }
   ],
   "source": [
    "import numpy as np\n",
    "import pickle\n",
    "from VGG_like import VGG_like\n",
    "import tensorflow as tf\n",
    "from sklearn.preprocessing import LabelBinarizer\n",
    "from tensorflow.keras.datasets import mnist\n",
    "import matplotlib.pyplot as plt\n",
    "\n",
    "\n",
    "def makedataset():\n",
    "    \"\"\"\n",
    "    make dataset from MNIST\n",
    "    \"\"\"\n",
    "    (X_train, y_train),(X_test, y_test) = mnist.load_data()\n",
    "    lb = LabelBinarizer()\n",
    "    \n",
    "    \n",
    "    # 正規化\n",
    "    test_data = (X_test - X_test.min()) / X_test.max()\n",
    "    test_label = lb.fit_transform(y_test)\n",
    "    \n",
    "    # 画像にチャンネルを追加\n",
    "    test_data = np.expand_dims(test_data, axis=1)\n",
    "    print(test_data.shape) \n",
    "    # 配列形式変更\n",
    "    test_data = test_data.reshape(-1,1, 28,28)\n",
    "    print(test_data.shape)\n",
    "    \n",
    "    # テストデータを返す.\n",
    "    return test_data, test_label\n",
    "\n",
    "\n",
    "def func_predict(test_data, test_label):\n",
    "    \"\"\"\n",
    "    予測する関数\n",
    "    data : 画像データ\n",
    "    return loss, accuracy\n",
    "    引数とreturn以外は、自由に編集してください    \n",
    "    \"\"\"\n",
    "\n",
    "    model = VGG_like(input_dim=(1, 28, 28),\n",
    "                conv_param={'filter_size':3, 'pad':1, 'stride':1},\n",
    "                pool_param={'pool_size':2, 'pad':0, 'stride':2},\n",
    "                output_size=10, weight_init_std=0.01)\n",
    "    with open('model_epoch0_acc0.99_loop2.pkl', 'rb') as f:\n",
    "        save_dict = pickle.load(f)\n",
    "        loaded_params = save_dict['params']\n",
    "        bn_stats = save_dict['bn_stats']\n",
    "\n",
    "        # パラメータをモデルに反映\n",
    "        model.params = loaded_params\n",
    "\n",
    "        # Conv層のパラメータ設定\n",
    "        for i in range(1, 8):  # Conv層が1～7層ある場合\n",
    "            model.layers['Conv' + str(i)].W = model.params['W' + str(i)]\n",
    "            model.layers['Conv' + str(i)].b = model.params['b' + str(i)]\n",
    "\n",
    "        # バッチ正規化層のパラメータ設定\n",
    "        for block_idx in range(1, 5):\n",
    "            gamma_name = f'gamma_block{block_idx}'\n",
    "            beta_name = f'beta_block{block_idx}'\n",
    "            if gamma_name in model.params and beta_name in model.params:\n",
    "                model.layers[f'BatchNorm_block{block_idx}'].gamma = model.params[gamma_name]\n",
    "                model.layers[f'BatchNorm_block{block_idx}'].beta = model.params[beta_name]\n",
    "                # running_mean と running_var の設定\n",
    "                model.layers[f'BatchNorm_block{block_idx}'].moving_mean = bn_stats[f'BatchNorm_block{block_idx}']['moving_mean']\n",
    "                model.layers[f'BatchNorm_block{block_idx}'].moving_var = bn_stats[f'BatchNorm_block{block_idx}']['moving_var']\n",
    "            else:\n",
    "                print(\"バッチ正規化パラメータの復元に失敗しました\")\n",
    "\n",
    "        # 全結合層のパラメータ設定\n",
    "        model.layers['Affine_fc1'].W = model.params['W_fc1']\n",
    "        model.layers['Affine_fc1'].b = model.params['b_fc1']\n",
    "        model.layers['Affine_fc3'].W = model.params['W_fc3']\n",
    "        model.layers['Affine_fc3'].b = model.params['b_fc3']\n",
    "        \n",
    "    \n",
    "    # 予測した最初の10枚と予測結果を表示する.\n",
    "    plt.figure(figsize=(10,5))\n",
    "    for i in range(10):\n",
    "        plt.subplot(2,5,i+1)\n",
    "        Predicted_labels = np.argmax(model.predict(np.expand_dims(test_data[i],axis=0)))\n",
    "        Truelabels = np.argmax(test_label[i])\n",
    "        plt.imshow(test_data[i].reshape(28,28), cmap='gray')\n",
    "        plt.title(f\"Pred:{Predicted_labels}\\nTrue:{Truelabels}\")\n",
    "        plt.axis('off')\n",
    "    plt.tight_layout()\n",
    "    plt.show()\n",
    "    \n",
    "    accuracy = model.accuracy(test_data, test_label)\n",
    "    loss  = model.loss(test_data, test_label)\n",
    "\n",
    "    return loss, accuracy # 編集不可\n",
    "\n",
    "\n",
    "def main():\n",
    "    \"\"\"\n",
    "    Main fuction.\n",
    "    \"\"\"\n",
    "    # テスト用データをつくる\n",
    "    test_data, test_label = makedataset()\n",
    "    \n",
    "    \n",
    "    # 予測し精度を算出する\n",
    "    loss, accuracy = func_predict(test_data, test_label)\n",
    "    print(f\"Loss:{loss}, Accuracy: {accuracy}\")\n",
    "    \n",
    "    \n",
    "\n",
    "\n",
    "if __name__==\"__main__\":\n",
    "    main()"
   ]
  },
  {
   "cell_type": "code",
   "execution_count": null,
   "id": "9fc4df30-f8d7-48e1-8bff-19bdec33ba5a",
   "metadata": {},
   "outputs": [],
   "source": []
  }
 ],
 "metadata": {
  "kernelspec": {
   "display_name": "Python 3 (ipykernel)",
   "language": "python",
   "name": "python3"
  },
  "language_info": {
   "codemirror_mode": {
    "name": "ipython",
    "version": 3
   },
   "file_extension": ".py",
   "mimetype": "text/x-python",
   "name": "python",
   "nbconvert_exporter": "python",
   "pygments_lexer": "ipython3",
   "version": "3.9.13"
  }
 },
 "nbformat": 4,
 "nbformat_minor": 5
}
